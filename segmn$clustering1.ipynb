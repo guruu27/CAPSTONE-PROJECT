{
  "nbformat": 4,
  "nbformat_minor": 0,
  "metadata": {
    "colab": {
      "name": "segmn$clustering1.ipynb",
      "provenance": [],
      "authorship_tag": "ABX9TyPmedJSbylPcrw1TpCvWQyE",
      "include_colab_link": true
    },
    "kernelspec": {
      "name": "python3",
      "display_name": "Python 3"
    },
    "language_info": {
      "name": "python"
    }
  },
  "cells": [
    {
      "cell_type": "markdown",
      "metadata": {
        "id": "view-in-github",
        "colab_type": "text"
      },
      "source": [
        "<a href=\"https://colab.research.google.com/github/guruu27/CAPSTONE-PROJECT/blob/main/segmn%24clustering1.ipynb\" target=\"_parent\"><img src=\"https://colab.research.google.com/assets/colab-badge.svg\" alt=\"Open In Colab\"/></a>"
      ]
    },
    {
      "cell_type": "code",
      "metadata": {
        "id": "9JSH4FBpoDRT",
        "colab": {
          "base_uri": "https://localhost:8080/"
        },
        "outputId": "4353d38d-efdf-4ffc-ede4-8e996b9ba21a"
      },
      "source": [
        "\n",
        "import numpy as np # library to handle data in a vectorized manner\n",
        "import pandas as pd # library for data analsysis\n",
        "import requests \n",
        "from bs4 import BeautifulSoup \n",
        "\n",
        "print('Libraries imported.')"
      ],
      "execution_count": 17,
      "outputs": [
        {
          "output_type": "stream",
          "text": [
            "Libraries imported.\n"
          ],
          "name": "stdout"
        }
      ]
    },
    {
      "cell_type": "code",
      "metadata": {
        "colab": {
          "base_uri": "https://localhost:8080/"
        },
        "id": "wyE4oslpufPq",
        "outputId": "e3161600-fcc1-4065-97b4-3c59caf23d29"
      },
      "source": [
        "\n",
        "URL = \"https://en.wikipedia.org/w/index.php?title=List_of_postal_codes_of_Canada:_M&oldid=1011037969\"\n",
        "r = requests.get(URL) \n",
        "  \n",
        "soup = BeautifulSoup(r.content, 'html5lib') \n",
        "table = soup.find('div', attrs = {'id':'container'}) \n",
        "\n",
        "#print(soup.prettify()) \n",
        "print('Page Scrapped.')"
      ],
      "execution_count": 18,
      "outputs": [
        {
          "output_type": "stream",
          "text": [
            "Page Scrapped.\n"
          ],
          "name": "stdout"
        }
      ]
    },
    {
      "cell_type": "code",
      "metadata": {
        "colab": {
          "base_uri": "https://localhost:8080/"
        },
        "id": "u5v56QQWuiFs",
        "outputId": "d7772ab9-b2e0-49d8-8a0d-c25a332b3b48"
      },
      "source": [
        "postalCodes = [];\n",
        "boroughs= [];\n",
        "neighborhoods = [];\n",
        "columnNum = 1;\n",
        "passVal = False\n",
        "\n",
        "for row in soup.find_all('td'):\n",
        "    for cell in row:\n",
        "        if cell.string and cell.string[0].isalpha() and len(cell.string) > 2:\n",
        "            passVal = False\n",
        "            if columnNum == 1:\n",
        "                if passVal == False and cell.string[1].isdigit():\n",
        "                    postalCodes.append(cell.string);   \n",
        "                    columnNum = 2\n",
        "                else:\n",
        "                    continue\n",
        "            elif columnNum == 2 :\n",
        "                if cell.string == 'Not assigned':\n",
        "                    passVal = True\n",
        "                    del postalCodes[-1]\n",
        "                    columnNum = 1\n",
        "                    continue\n",
        "                else:\n",
        "                    boroughs.append(cell.string);      \n",
        "                    columnNum = 3\n",
        "            elif columnNum == 3 :\n",
        "                if cell.string == 'Not assigned\\n':\n",
        "                    neighborhoods.append(boroughs[-1])\n",
        "                else:\n",
        "                    neighborhoods.append(cell.string); \n",
        "                columnNum = 1\n",
        "                \n",
        "print('Data Collected.')"
      ],
      "execution_count": 19,
      "outputs": [
        {
          "output_type": "stream",
          "text": [
            "Data Collected.\n"
          ],
          "name": "stdout"
        }
      ]
    },
    {
      "cell_type": "code",
      "metadata": {
        "colab": {
          "base_uri": "https://localhost:8080/",
          "height": 49
        },
        "id": "V2nRuV_vuk5U",
        "outputId": "3c2377aa-e22f-43a9-c18d-8cf12d53c9ef"
      },
      "source": [
        "# define the dataframe columns\n",
        "column_names = ['PostalCode', 'Borough', 'Neighborhood'] \n",
        "\n",
        "# instantiate the dataframe\n",
        "neighbors = pd.DataFrame(columns=column_names)\n",
        "\n",
        "neighbors.head()"
      ],
      "execution_count": 20,
      "outputs": [
        {
          "output_type": "execute_result",
          "data": {
            "text/html": [
              "<div>\n",
              "<style scoped>\n",
              "    .dataframe tbody tr th:only-of-type {\n",
              "        vertical-align: middle;\n",
              "    }\n",
              "\n",
              "    .dataframe tbody tr th {\n",
              "        vertical-align: top;\n",
              "    }\n",
              "\n",
              "    .dataframe thead th {\n",
              "        text-align: right;\n",
              "    }\n",
              "</style>\n",
              "<table border=\"1\" class=\"dataframe\">\n",
              "  <thead>\n",
              "    <tr style=\"text-align: right;\">\n",
              "      <th></th>\n",
              "      <th>PostalCode</th>\n",
              "      <th>Borough</th>\n",
              "      <th>Neighborhood</th>\n",
              "    </tr>\n",
              "  </thead>\n",
              "  <tbody>\n",
              "  </tbody>\n",
              "</table>\n",
              "</div>"
            ],
            "text/plain": [
              "Empty DataFrame\n",
              "Columns: [PostalCode, Borough, Neighborhood]\n",
              "Index: []"
            ]
          },
          "metadata": {
            "tags": []
          },
          "execution_count": 20
        }
      ]
    },
    {
      "cell_type": "code",
      "metadata": {
        "id": "w0W-NyRiuou7"
      },
      "source": [
        "for data in range(len(neighborhoods)):\n",
        "    code = postalCodes[data]\n",
        "    borough = boroughs[data]\n",
        "    neighborhood_name = neighborhoods[data]\n",
        "\n",
        "    neighbors = neighbors.append({ 'PostalCode': code,\n",
        "                                   'Borough': borough,\n",
        "                                   'Neighborhood': neighborhood_name}, ignore_index=True)"
      ],
      "execution_count": 21,
      "outputs": []
    },
    {
      "cell_type": "code",
      "metadata": {
        "colab": {
          "base_uri": "https://localhost:8080/",
          "height": 359
        },
        "id": "fFgPqjgPuq-U",
        "outputId": "8ba8013a-d3fd-4397-85ed-295e9d11a981"
      },
      "source": [
        "neighbors.head(10)"
      ],
      "execution_count": 22,
      "outputs": [
        {
          "output_type": "execute_result",
          "data": {
            "text/html": [
              "<div>\n",
              "<style scoped>\n",
              "    .dataframe tbody tr th:only-of-type {\n",
              "        vertical-align: middle;\n",
              "    }\n",
              "\n",
              "    .dataframe tbody tr th {\n",
              "        vertical-align: top;\n",
              "    }\n",
              "\n",
              "    .dataframe thead th {\n",
              "        text-align: right;\n",
              "    }\n",
              "</style>\n",
              "<table border=\"1\" class=\"dataframe\">\n",
              "  <thead>\n",
              "    <tr style=\"text-align: right;\">\n",
              "      <th></th>\n",
              "      <th>PostalCode</th>\n",
              "      <th>Borough</th>\n",
              "      <th>Neighborhood</th>\n",
              "    </tr>\n",
              "  </thead>\n",
              "  <tbody>\n",
              "    <tr>\n",
              "      <th>0</th>\n",
              "      <td>M1A\\n</td>\n",
              "      <td>Not assigned\\n</td>\n",
              "      <td>Not assigned\\n</td>\n",
              "    </tr>\n",
              "    <tr>\n",
              "      <th>1</th>\n",
              "      <td>M2A\\n</td>\n",
              "      <td>Not assigned\\n</td>\n",
              "      <td>Not assigned\\n</td>\n",
              "    </tr>\n",
              "    <tr>\n",
              "      <th>2</th>\n",
              "      <td>M3A\\n</td>\n",
              "      <td>North York\\n</td>\n",
              "      <td>Parkwoods\\n</td>\n",
              "    </tr>\n",
              "    <tr>\n",
              "      <th>3</th>\n",
              "      <td>M4A\\n</td>\n",
              "      <td>North York\\n</td>\n",
              "      <td>Victoria Village\\n</td>\n",
              "    </tr>\n",
              "    <tr>\n",
              "      <th>4</th>\n",
              "      <td>M5A\\n</td>\n",
              "      <td>Downtown Toronto\\n</td>\n",
              "      <td>Regent Park, Harbourfront\\n</td>\n",
              "    </tr>\n",
              "    <tr>\n",
              "      <th>5</th>\n",
              "      <td>M6A\\n</td>\n",
              "      <td>North York\\n</td>\n",
              "      <td>Lawrence Manor, Lawrence Heights\\n</td>\n",
              "    </tr>\n",
              "    <tr>\n",
              "      <th>6</th>\n",
              "      <td>M7A\\n</td>\n",
              "      <td>Downtown Toronto\\n</td>\n",
              "      <td>Queen's Park, Ontario Provincial Government\\n</td>\n",
              "    </tr>\n",
              "    <tr>\n",
              "      <th>7</th>\n",
              "      <td>M8A\\n</td>\n",
              "      <td>Not assigned\\n</td>\n",
              "      <td>Not assigned\\n</td>\n",
              "    </tr>\n",
              "    <tr>\n",
              "      <th>8</th>\n",
              "      <td>M9A\\n</td>\n",
              "      <td>Etobicoke\\n</td>\n",
              "      <td>Islington Avenue, Humber Valley Village\\n</td>\n",
              "    </tr>\n",
              "    <tr>\n",
              "      <th>9</th>\n",
              "      <td>M1B\\n</td>\n",
              "      <td>Scarborough\\n</td>\n",
              "      <td>Malvern, Rouge\\n</td>\n",
              "    </tr>\n",
              "  </tbody>\n",
              "</table>\n",
              "</div>"
            ],
            "text/plain": [
              "  PostalCode             Borough                                   Neighborhood\n",
              "0      M1A\\n      Not assigned\\n                                 Not assigned\\n\n",
              "1      M2A\\n      Not assigned\\n                                 Not assigned\\n\n",
              "2      M3A\\n        North York\\n                                    Parkwoods\\n\n",
              "3      M4A\\n        North York\\n                             Victoria Village\\n\n",
              "4      M5A\\n  Downtown Toronto\\n                    Regent Park, Harbourfront\\n\n",
              "5      M6A\\n        North York\\n             Lawrence Manor, Lawrence Heights\\n\n",
              "6      M7A\\n  Downtown Toronto\\n  Queen's Park, Ontario Provincial Government\\n\n",
              "7      M8A\\n      Not assigned\\n                                 Not assigned\\n\n",
              "8      M9A\\n         Etobicoke\\n      Islington Avenue, Humber Valley Village\\n\n",
              "9      M1B\\n       Scarborough\\n                               Malvern, Rouge\\n"
            ]
          },
          "metadata": {
            "tags": []
          },
          "execution_count": 22
        }
      ]
    },
    {
      "cell_type": "code",
      "metadata": {
        "colab": {
          "base_uri": "https://localhost:8080/"
        },
        "id": "vlR7hW5rutNI",
        "outputId": "4eb8cb88-c15a-4bfe-f50f-5eefd2cff7ae"
      },
      "source": [
        "neighbors.shape"
      ],
      "execution_count": 23,
      "outputs": [
        {
          "output_type": "execute_result",
          "data": {
            "text/plain": [
              "(180, 3)"
            ]
          },
          "metadata": {
            "tags": []
          },
          "execution_count": 23
        }
      ]
    }
  ]
}